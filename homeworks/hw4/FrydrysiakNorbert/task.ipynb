{
 "cells": [
  {
   "cell_type": "markdown",
   "source": [
    "### Homework 4\n",
    "Author: Norbert Frydrysiak\n",
    "Źródło: https://www.boredpanda.com/blog/wp-content/uploads/2020/09/1291509085855260672-png__700.jpg\n",
    "\n",
    "Przedstawiony wykres jest mylący ponieważ skala nie zaczyna się od zera, przez co wydaje się, że kobiety z Łotwy są gigantyczne w porównaniu do kobiet z RPA, jakby były dwa razy wyższe. W rzeczywistości różnica jest niewielka, a skala wykresu powinna zaczynać się od zera. Dodatkowo słupki zostały zamienione na symbole kobiet, co dodatkowo utrudnia porównanie wysokości słupków. Te \"słupki\" nie powinny być różnego koloru, bo to sugeruje, że kolor jest jakąś dodatkową informacją.\n",
    "\n",
    "<img src=\"https://www.boredpanda.com/blog/wp-content/uploads/2020/09/1291509085855260672-png__700.jpg\">"
   ],
   "metadata": {
    "collapsed": false
   },
   "id": "2bb6d251b9cfe675"
  },
  {
   "cell_type": "code",
   "execution_count": 85,
   "id": "initial_id",
   "metadata": {
    "collapsed": true,
    "ExecuteTime": {
     "end_time": "2023-12-10T21:40:48.490616Z",
     "start_time": "2023-12-10T21:40:47.836886Z"
    }
   },
   "outputs": [
    {
     "data": {
      "text/plain": "           Country Male_Height Female_Height\n0        Australia       175.6         161.8\n1          Belarus       175.9         164.5\n2            China       169.7         158.0\n3   Czech Republic       177.7         164.4\n4          Germany       178.9         165.9\n5            India         165         152.0\n6            Japan       171.8         158.6\n7           Latvia       181.2         168.8\n8        Lithuania       181.3         167.5\n9      Netherlands       181.2         168.5\n10            Peru         164         151.0\n11          Poland       178.7         165.1\n12          Russia       176.4         164.3\n13        Slovakia       179.3         165.4\n14    South Africa         168         159.0\n15         Ukraine         175         164.0\n16   United States       175.3         161.3\n17         Uruguay         170         158.0",
      "text/html": "<div>\n<style scoped>\n    .dataframe tbody tr th:only-of-type {\n        vertical-align: middle;\n    }\n\n    .dataframe tbody tr th {\n        vertical-align: top;\n    }\n\n    .dataframe thead th {\n        text-align: right;\n    }\n</style>\n<table border=\"1\" class=\"dataframe\">\n  <thead>\n    <tr style=\"text-align: right;\">\n      <th></th>\n      <th>Country</th>\n      <th>Male_Height</th>\n      <th>Female_Height</th>\n    </tr>\n  </thead>\n  <tbody>\n    <tr>\n      <th>0</th>\n      <td>Australia</td>\n      <td>175.6</td>\n      <td>161.8</td>\n    </tr>\n    <tr>\n      <th>1</th>\n      <td>Belarus</td>\n      <td>175.9</td>\n      <td>164.5</td>\n    </tr>\n    <tr>\n      <th>2</th>\n      <td>China</td>\n      <td>169.7</td>\n      <td>158.0</td>\n    </tr>\n    <tr>\n      <th>3</th>\n      <td>Czech Republic</td>\n      <td>177.7</td>\n      <td>164.4</td>\n    </tr>\n    <tr>\n      <th>4</th>\n      <td>Germany</td>\n      <td>178.9</td>\n      <td>165.9</td>\n    </tr>\n    <tr>\n      <th>5</th>\n      <td>India</td>\n      <td>165</td>\n      <td>152.0</td>\n    </tr>\n    <tr>\n      <th>6</th>\n      <td>Japan</td>\n      <td>171.8</td>\n      <td>158.6</td>\n    </tr>\n    <tr>\n      <th>7</th>\n      <td>Latvia</td>\n      <td>181.2</td>\n      <td>168.8</td>\n    </tr>\n    <tr>\n      <th>8</th>\n      <td>Lithuania</td>\n      <td>181.3</td>\n      <td>167.5</td>\n    </tr>\n    <tr>\n      <th>9</th>\n      <td>Netherlands</td>\n      <td>181.2</td>\n      <td>168.5</td>\n    </tr>\n    <tr>\n      <th>10</th>\n      <td>Peru</td>\n      <td>164</td>\n      <td>151.0</td>\n    </tr>\n    <tr>\n      <th>11</th>\n      <td>Poland</td>\n      <td>178.7</td>\n      <td>165.1</td>\n    </tr>\n    <tr>\n      <th>12</th>\n      <td>Russia</td>\n      <td>176.4</td>\n      <td>164.3</td>\n    </tr>\n    <tr>\n      <th>13</th>\n      <td>Slovakia</td>\n      <td>179.3</td>\n      <td>165.4</td>\n    </tr>\n    <tr>\n      <th>14</th>\n      <td>South Africa</td>\n      <td>168</td>\n      <td>159.0</td>\n    </tr>\n    <tr>\n      <th>15</th>\n      <td>Ukraine</td>\n      <td>175</td>\n      <td>164.0</td>\n    </tr>\n    <tr>\n      <th>16</th>\n      <td>United States</td>\n      <td>175.3</td>\n      <td>161.3</td>\n    </tr>\n    <tr>\n      <th>17</th>\n      <td>Uruguay</td>\n      <td>170</td>\n      <td>158.0</td>\n    </tr>\n  </tbody>\n</table>\n</div>"
     },
     "execution_count": 85,
     "metadata": {},
     "output_type": "execute_result"
    }
   ],
   "source": [
    "import pandas as pd\n",
    "import plotly.express as px\n",
    "import plotly.graph_objects as go\n",
    "import numpy as np\n",
    "\n",
    "table=pd.read_html('https://en.wikipedia.org/wiki/Average_human_height_by_country')\n",
    "# I want to take only first column and third column\n",
    "df=table[0].iloc[:,[0,1,2]]\n",
    "# in second column I want to take everything until non braking space\n",
    "df=df.iloc[:,[0,1,2]].apply(lambda x: x.str.split('\\xa0').str[0])\n",
    "# covert to numbers strings in second column\n",
    "df.iloc[:,2]=pd.to_numeric(df.iloc[:,2], errors='coerce')\n",
    "# remove rows with NaN\n",
    "df=df.dropna()\n",
    "# take first rows for every country\n",
    "df=df.drop_duplicates(subset='Country /  region')\n",
    "# take Latvia, South Africa, Scotland, Australia, Peru, India, Poland, Netherlands, Japan, United States, Uruguay\n",
    "df=df[df['Country /  region'].isin(['Latvia', 'South Africa', 'Scotland', 'Australia', 'Peru', 'India', 'Poland', 'Netherlands', 'Japan', 'United States', 'Uruguay', 'China', 'Czech Republic', 'Ukraine','Belarus','Russia','Lithuania', 'Slovakia','Germany'])]\n",
    "#rename first column and second column\n",
    "df=df.rename(columns={'Country /  region':'Country'}).rename(columns={'Average female height':'Female_Height'}).rename(\n",
    "    columns={'Average male height':'Male_Height'}\n",
    ")\n",
    "# remove rows with countries with name that has '-'\n",
    "df=df[~df['Country'].str.contains('–')]\n",
    "df = df.reset_index(drop=True)\n",
    "df"
   ]
  },
  {
   "cell_type": "code",
   "execution_count": 86,
   "outputs": [
    {
     "data": {
      "application/vnd.plotly.v1+json": {
       "data": [
        {
         "name": "Women Height",
         "x": [
          "Australia",
          "Belarus",
          "China",
          "Czech Republic",
          "Germany",
          "India",
          "Japan",
          "Latvia",
          "Lithuania",
          "Netherlands",
          "Peru",
          "Poland",
          "Russia",
          "Slovakia",
          "South Africa",
          "Ukraine",
          "United States",
          "Uruguay"
         ],
         "y": [
          161.8,
          164.5,
          158.0,
          164.4,
          165.9,
          152.0,
          158.6,
          168.8,
          167.5,
          168.5,
          151.0,
          165.1,
          164.3,
          165.4,
          159.0,
          164.0,
          161.3,
          158.0
         ],
         "type": "bar"
        },
        {
         "name": "Men Height",
         "x": [
          "Australia",
          "Belarus",
          "China",
          "Czech Republic",
          "Germany",
          "India",
          "Japan",
          "Latvia",
          "Lithuania",
          "Netherlands",
          "Peru",
          "Poland",
          "Russia",
          "Slovakia",
          "South Africa",
          "Ukraine",
          "United States",
          "Uruguay"
         ],
         "y": [
          "175.6",
          "175.9",
          "169.7",
          "177.7",
          "178.9",
          "165",
          "171.8",
          "181.2",
          "181.3",
          "181.2",
          "164",
          "178.7",
          "176.4",
          "179.3",
          "168",
          "175",
          "175.3",
          "170"
         ],
         "type": "bar"
        }
       ],
       "layout": {
        "template": {
         "data": {
          "histogram2dcontour": [
           {
            "type": "histogram2dcontour",
            "colorbar": {
             "outlinewidth": 0,
             "ticks": ""
            },
            "colorscale": [
             [
              0.0,
              "#0d0887"
             ],
             [
              0.1111111111111111,
              "#46039f"
             ],
             [
              0.2222222222222222,
              "#7201a8"
             ],
             [
              0.3333333333333333,
              "#9c179e"
             ],
             [
              0.4444444444444444,
              "#bd3786"
             ],
             [
              0.5555555555555556,
              "#d8576b"
             ],
             [
              0.6666666666666666,
              "#ed7953"
             ],
             [
              0.7777777777777778,
              "#fb9f3a"
             ],
             [
              0.8888888888888888,
              "#fdca26"
             ],
             [
              1.0,
              "#f0f921"
             ]
            ]
           }
          ],
          "choropleth": [
           {
            "type": "choropleth",
            "colorbar": {
             "outlinewidth": 0,
             "ticks": ""
            }
           }
          ],
          "histogram2d": [
           {
            "type": "histogram2d",
            "colorbar": {
             "outlinewidth": 0,
             "ticks": ""
            },
            "colorscale": [
             [
              0.0,
              "#0d0887"
             ],
             [
              0.1111111111111111,
              "#46039f"
             ],
             [
              0.2222222222222222,
              "#7201a8"
             ],
             [
              0.3333333333333333,
              "#9c179e"
             ],
             [
              0.4444444444444444,
              "#bd3786"
             ],
             [
              0.5555555555555556,
              "#d8576b"
             ],
             [
              0.6666666666666666,
              "#ed7953"
             ],
             [
              0.7777777777777778,
              "#fb9f3a"
             ],
             [
              0.8888888888888888,
              "#fdca26"
             ],
             [
              1.0,
              "#f0f921"
             ]
            ]
           }
          ],
          "heatmap": [
           {
            "type": "heatmap",
            "colorbar": {
             "outlinewidth": 0,
             "ticks": ""
            },
            "colorscale": [
             [
              0.0,
              "#0d0887"
             ],
             [
              0.1111111111111111,
              "#46039f"
             ],
             [
              0.2222222222222222,
              "#7201a8"
             ],
             [
              0.3333333333333333,
              "#9c179e"
             ],
             [
              0.4444444444444444,
              "#bd3786"
             ],
             [
              0.5555555555555556,
              "#d8576b"
             ],
             [
              0.6666666666666666,
              "#ed7953"
             ],
             [
              0.7777777777777778,
              "#fb9f3a"
             ],
             [
              0.8888888888888888,
              "#fdca26"
             ],
             [
              1.0,
              "#f0f921"
             ]
            ]
           }
          ],
          "heatmapgl": [
           {
            "type": "heatmapgl",
            "colorbar": {
             "outlinewidth": 0,
             "ticks": ""
            },
            "colorscale": [
             [
              0.0,
              "#0d0887"
             ],
             [
              0.1111111111111111,
              "#46039f"
             ],
             [
              0.2222222222222222,
              "#7201a8"
             ],
             [
              0.3333333333333333,
              "#9c179e"
             ],
             [
              0.4444444444444444,
              "#bd3786"
             ],
             [
              0.5555555555555556,
              "#d8576b"
             ],
             [
              0.6666666666666666,
              "#ed7953"
             ],
             [
              0.7777777777777778,
              "#fb9f3a"
             ],
             [
              0.8888888888888888,
              "#fdca26"
             ],
             [
              1.0,
              "#f0f921"
             ]
            ]
           }
          ],
          "contourcarpet": [
           {
            "type": "contourcarpet",
            "colorbar": {
             "outlinewidth": 0,
             "ticks": ""
            }
           }
          ],
          "contour": [
           {
            "type": "contour",
            "colorbar": {
             "outlinewidth": 0,
             "ticks": ""
            },
            "colorscale": [
             [
              0.0,
              "#0d0887"
             ],
             [
              0.1111111111111111,
              "#46039f"
             ],
             [
              0.2222222222222222,
              "#7201a8"
             ],
             [
              0.3333333333333333,
              "#9c179e"
             ],
             [
              0.4444444444444444,
              "#bd3786"
             ],
             [
              0.5555555555555556,
              "#d8576b"
             ],
             [
              0.6666666666666666,
              "#ed7953"
             ],
             [
              0.7777777777777778,
              "#fb9f3a"
             ],
             [
              0.8888888888888888,
              "#fdca26"
             ],
             [
              1.0,
              "#f0f921"
             ]
            ]
           }
          ],
          "surface": [
           {
            "type": "surface",
            "colorbar": {
             "outlinewidth": 0,
             "ticks": ""
            },
            "colorscale": [
             [
              0.0,
              "#0d0887"
             ],
             [
              0.1111111111111111,
              "#46039f"
             ],
             [
              0.2222222222222222,
              "#7201a8"
             ],
             [
              0.3333333333333333,
              "#9c179e"
             ],
             [
              0.4444444444444444,
              "#bd3786"
             ],
             [
              0.5555555555555556,
              "#d8576b"
             ],
             [
              0.6666666666666666,
              "#ed7953"
             ],
             [
              0.7777777777777778,
              "#fb9f3a"
             ],
             [
              0.8888888888888888,
              "#fdca26"
             ],
             [
              1.0,
              "#f0f921"
             ]
            ]
           }
          ],
          "mesh3d": [
           {
            "type": "mesh3d",
            "colorbar": {
             "outlinewidth": 0,
             "ticks": ""
            }
           }
          ],
          "scatter": [
           {
            "marker": {
             "line": {
              "color": "#283442"
             }
            },
            "type": "scatter"
           }
          ],
          "parcoords": [
           {
            "type": "parcoords",
            "line": {
             "colorbar": {
              "outlinewidth": 0,
              "ticks": ""
             }
            }
           }
          ],
          "scatterpolargl": [
           {
            "type": "scatterpolargl",
            "marker": {
             "colorbar": {
              "outlinewidth": 0,
              "ticks": ""
             }
            }
           }
          ],
          "bar": [
           {
            "error_x": {
             "color": "#f2f5fa"
            },
            "error_y": {
             "color": "#f2f5fa"
            },
            "marker": {
             "line": {
              "color": "rgb(17,17,17)",
              "width": 0.5
             },
             "pattern": {
              "fillmode": "overlay",
              "size": 10,
              "solidity": 0.2
             }
            },
            "type": "bar"
           }
          ],
          "scattergeo": [
           {
            "type": "scattergeo",
            "marker": {
             "colorbar": {
              "outlinewidth": 0,
              "ticks": ""
             }
            }
           }
          ],
          "scatterpolar": [
           {
            "type": "scatterpolar",
            "marker": {
             "colorbar": {
              "outlinewidth": 0,
              "ticks": ""
             }
            }
           }
          ],
          "histogram": [
           {
            "marker": {
             "pattern": {
              "fillmode": "overlay",
              "size": 10,
              "solidity": 0.2
             }
            },
            "type": "histogram"
           }
          ],
          "scattergl": [
           {
            "marker": {
             "line": {
              "color": "#283442"
             }
            },
            "type": "scattergl"
           }
          ],
          "scatter3d": [
           {
            "type": "scatter3d",
            "line": {
             "colorbar": {
              "outlinewidth": 0,
              "ticks": ""
             }
            },
            "marker": {
             "colorbar": {
              "outlinewidth": 0,
              "ticks": ""
             }
            }
           }
          ],
          "scattermapbox": [
           {
            "type": "scattermapbox",
            "marker": {
             "colorbar": {
              "outlinewidth": 0,
              "ticks": ""
             }
            }
           }
          ],
          "scatterternary": [
           {
            "type": "scatterternary",
            "marker": {
             "colorbar": {
              "outlinewidth": 0,
              "ticks": ""
             }
            }
           }
          ],
          "scattercarpet": [
           {
            "type": "scattercarpet",
            "marker": {
             "colorbar": {
              "outlinewidth": 0,
              "ticks": ""
             }
            }
           }
          ],
          "carpet": [
           {
            "aaxis": {
             "endlinecolor": "#A2B1C6",
             "gridcolor": "#506784",
             "linecolor": "#506784",
             "minorgridcolor": "#506784",
             "startlinecolor": "#A2B1C6"
            },
            "baxis": {
             "endlinecolor": "#A2B1C6",
             "gridcolor": "#506784",
             "linecolor": "#506784",
             "minorgridcolor": "#506784",
             "startlinecolor": "#A2B1C6"
            },
            "type": "carpet"
           }
          ],
          "table": [
           {
            "cells": {
             "fill": {
              "color": "#506784"
             },
             "line": {
              "color": "rgb(17,17,17)"
             }
            },
            "header": {
             "fill": {
              "color": "#2a3f5f"
             },
             "line": {
              "color": "rgb(17,17,17)"
             }
            },
            "type": "table"
           }
          ],
          "barpolar": [
           {
            "marker": {
             "line": {
              "color": "rgb(17,17,17)",
              "width": 0.5
             },
             "pattern": {
              "fillmode": "overlay",
              "size": 10,
              "solidity": 0.2
             }
            },
            "type": "barpolar"
           }
          ],
          "pie": [
           {
            "automargin": true,
            "type": "pie"
           }
          ]
         },
         "layout": {
          "autotypenumbers": "strict",
          "colorway": [
           "#636efa",
           "#EF553B",
           "#00cc96",
           "#ab63fa",
           "#FFA15A",
           "#19d3f3",
           "#FF6692",
           "#B6E880",
           "#FF97FF",
           "#FECB52"
          ],
          "font": {
           "color": "#f2f5fa"
          },
          "hovermode": "closest",
          "hoverlabel": {
           "align": "left"
          },
          "paper_bgcolor": "rgb(17,17,17)",
          "plot_bgcolor": "rgb(17,17,17)",
          "polar": {
           "bgcolor": "rgb(17,17,17)",
           "angularaxis": {
            "gridcolor": "#506784",
            "linecolor": "#506784",
            "ticks": ""
           },
           "radialaxis": {
            "gridcolor": "#506784",
            "linecolor": "#506784",
            "ticks": ""
           }
          },
          "ternary": {
           "bgcolor": "rgb(17,17,17)",
           "aaxis": {
            "gridcolor": "#506784",
            "linecolor": "#506784",
            "ticks": ""
           },
           "baxis": {
            "gridcolor": "#506784",
            "linecolor": "#506784",
            "ticks": ""
           },
           "caxis": {
            "gridcolor": "#506784",
            "linecolor": "#506784",
            "ticks": ""
           }
          },
          "coloraxis": {
           "colorbar": {
            "outlinewidth": 0,
            "ticks": ""
           }
          },
          "colorscale": {
           "sequential": [
            [
             0.0,
             "#0d0887"
            ],
            [
             0.1111111111111111,
             "#46039f"
            ],
            [
             0.2222222222222222,
             "#7201a8"
            ],
            [
             0.3333333333333333,
             "#9c179e"
            ],
            [
             0.4444444444444444,
             "#bd3786"
            ],
            [
             0.5555555555555556,
             "#d8576b"
            ],
            [
             0.6666666666666666,
             "#ed7953"
            ],
            [
             0.7777777777777778,
             "#fb9f3a"
            ],
            [
             0.8888888888888888,
             "#fdca26"
            ],
            [
             1.0,
             "#f0f921"
            ]
           ],
           "sequentialminus": [
            [
             0.0,
             "#0d0887"
            ],
            [
             0.1111111111111111,
             "#46039f"
            ],
            [
             0.2222222222222222,
             "#7201a8"
            ],
            [
             0.3333333333333333,
             "#9c179e"
            ],
            [
             0.4444444444444444,
             "#bd3786"
            ],
            [
             0.5555555555555556,
             "#d8576b"
            ],
            [
             0.6666666666666666,
             "#ed7953"
            ],
            [
             0.7777777777777778,
             "#fb9f3a"
            ],
            [
             0.8888888888888888,
             "#fdca26"
            ],
            [
             1.0,
             "#f0f921"
            ]
           ],
           "diverging": [
            [
             0,
             "#8e0152"
            ],
            [
             0.1,
             "#c51b7d"
            ],
            [
             0.2,
             "#de77ae"
            ],
            [
             0.3,
             "#f1b6da"
            ],
            [
             0.4,
             "#fde0ef"
            ],
            [
             0.5,
             "#f7f7f7"
            ],
            [
             0.6,
             "#e6f5d0"
            ],
            [
             0.7,
             "#b8e186"
            ],
            [
             0.8,
             "#7fbc41"
            ],
            [
             0.9,
             "#4d9221"
            ],
            [
             1,
             "#276419"
            ]
           ]
          },
          "xaxis": {
           "gridcolor": "#283442",
           "linecolor": "#506784",
           "ticks": "",
           "title": {
            "standoff": 15
           },
           "zerolinecolor": "#283442",
           "automargin": true,
           "zerolinewidth": 2
          },
          "yaxis": {
           "gridcolor": "#283442",
           "linecolor": "#506784",
           "ticks": "",
           "title": {
            "standoff": 15
           },
           "zerolinecolor": "#283442",
           "automargin": true,
           "zerolinewidth": 2
          },
          "scene": {
           "xaxis": {
            "backgroundcolor": "rgb(17,17,17)",
            "gridcolor": "#506784",
            "linecolor": "#506784",
            "showbackground": true,
            "ticks": "",
            "zerolinecolor": "#C8D4E3",
            "gridwidth": 2
           },
           "yaxis": {
            "backgroundcolor": "rgb(17,17,17)",
            "gridcolor": "#506784",
            "linecolor": "#506784",
            "showbackground": true,
            "ticks": "",
            "zerolinecolor": "#C8D4E3",
            "gridwidth": 2
           },
           "zaxis": {
            "backgroundcolor": "rgb(17,17,17)",
            "gridcolor": "#506784",
            "linecolor": "#506784",
            "showbackground": true,
            "ticks": "",
            "zerolinecolor": "#C8D4E3",
            "gridwidth": 2
           }
          },
          "shapedefaults": {
           "line": {
            "color": "#f2f5fa"
           }
          },
          "annotationdefaults": {
           "arrowcolor": "#f2f5fa",
           "arrowhead": 0,
           "arrowwidth": 1
          },
          "geo": {
           "bgcolor": "rgb(17,17,17)",
           "landcolor": "rgb(17,17,17)",
           "subunitcolor": "#506784",
           "showland": true,
           "showlakes": true,
           "lakecolor": "rgb(17,17,17)"
          },
          "title": {
           "x": 0.05
          },
          "updatemenudefaults": {
           "bgcolor": "#506784",
           "borderwidth": 0
          },
          "sliderdefaults": {
           "bgcolor": "#C8D4E3",
           "borderwidth": 1,
           "bordercolor": "rgb(17,17,17)",
           "tickwidth": 0
          },
          "mapbox": {
           "style": "dark"
          }
         }
        },
        "font": {
         "family": "Courier New, monospace"
        },
        "title": {
         "text": "Average Men and Women Height in Different Countries"
        },
        "xaxis": {
         "title": {
          "text": "Country"
         },
         "tickangle": -45
        },
        "yaxis": {
         "title": {
          "text": "Height [cm]"
         }
        },
        "barmode": "group",
        "updatemenus": [
         {
          "buttons": [
           {
            "args": [
             {
              "xaxis.type": "category",
              "xaxis.categoryorder": "array",
              "xaxis.categoryarray": [
               "Peru",
               "India",
               "South Africa",
               "China",
               "Uruguay",
               "Japan",
               "Ukraine",
               "United States",
               "Australia",
               "Belarus",
               "Russia",
               "Czech Republic",
               "Poland",
               "Germany",
               "Slovakia",
               "Netherlands",
               "Latvia",
               "Lithuania"
              ]
             }
            ],
            "label": "Sort by Men Height Ascending",
            "method": "relayout"
           },
           {
            "args": [
             {
              "xaxis.type": "category",
              "xaxis.categoryorder": "array",
              "xaxis.categoryarray": [
               "Peru",
               "India",
               "Uruguay",
               "China",
               "Japan",
               "South Africa",
               "United States",
               "Australia",
               "Ukraine",
               "Russia",
               "Czech Republic",
               "Belarus",
               "Poland",
               "Slovakia",
               "Germany",
               "Lithuania",
               "Netherlands",
               "Latvia"
              ]
             }
            ],
            "label": "Sort by Women Height Ascending",
            "method": "relayout"
           },
           {
            "args": [
             "visible",
             [
              true,
              true
             ]
            ],
            "label": "Both Men and Women Height visible",
            "method": "restyle"
           },
           {
            "args": [
             "visible",
             [
              false,
              true
             ]
            ],
            "label": "Only Men Height visible",
            "method": "restyle"
           },
           {
            "args": [
             "visible",
             [
              true,
              false
             ]
            ],
            "label": "Only Women Height visible",
            "method": "restyle"
           }
          ]
         }
        ]
       },
       "config": {
        "plotlyServerURL": "https://plot.ly"
       }
      },
      "text/html": "<div>                            <div id=\"bf8780e3-b7d9-4a3f-b9eb-724910bafaf2\" class=\"plotly-graph-div\" style=\"height:525px; width:100%;\"></div>            <script type=\"text/javascript\">                require([\"plotly\"], function(Plotly) {                    window.PLOTLYENV=window.PLOTLYENV || {};                                    if (document.getElementById(\"bf8780e3-b7d9-4a3f-b9eb-724910bafaf2\")) {                    Plotly.newPlot(                        \"bf8780e3-b7d9-4a3f-b9eb-724910bafaf2\",                        [{\"name\":\"Women Height\",\"x\":[\"Australia\",\"Belarus\",\"China\",\"Czech Republic\",\"Germany\",\"India\",\"Japan\",\"Latvia\",\"Lithuania\",\"Netherlands\",\"Peru\",\"Poland\",\"Russia\",\"Slovakia\",\"South Africa\",\"Ukraine\",\"United States\",\"Uruguay\"],\"y\":[161.8,164.5,158.0,164.4,165.9,152.0,158.6,168.8,167.5,168.5,151.0,165.1,164.3,165.4,159.0,164.0,161.3,158.0],\"type\":\"bar\"},{\"name\":\"Men Height\",\"x\":[\"Australia\",\"Belarus\",\"China\",\"Czech Republic\",\"Germany\",\"India\",\"Japan\",\"Latvia\",\"Lithuania\",\"Netherlands\",\"Peru\",\"Poland\",\"Russia\",\"Slovakia\",\"South Africa\",\"Ukraine\",\"United States\",\"Uruguay\"],\"y\":[\"175.6\",\"175.9\",\"169.7\",\"177.7\",\"178.9\",\"165\",\"171.8\",\"181.2\",\"181.3\",\"181.2\",\"164\",\"178.7\",\"176.4\",\"179.3\",\"168\",\"175\",\"175.3\",\"170\"],\"type\":\"bar\"}],                        {\"template\":{\"data\":{\"histogram2dcontour\":[{\"type\":\"histogram2dcontour\",\"colorbar\":{\"outlinewidth\":0,\"ticks\":\"\"},\"colorscale\":[[0.0,\"#0d0887\"],[0.1111111111111111,\"#46039f\"],[0.2222222222222222,\"#7201a8\"],[0.3333333333333333,\"#9c179e\"],[0.4444444444444444,\"#bd3786\"],[0.5555555555555556,\"#d8576b\"],[0.6666666666666666,\"#ed7953\"],[0.7777777777777778,\"#fb9f3a\"],[0.8888888888888888,\"#fdca26\"],[1.0,\"#f0f921\"]]}],\"choropleth\":[{\"type\":\"choropleth\",\"colorbar\":{\"outlinewidth\":0,\"ticks\":\"\"}}],\"histogram2d\":[{\"type\":\"histogram2d\",\"colorbar\":{\"outlinewidth\":0,\"ticks\":\"\"},\"colorscale\":[[0.0,\"#0d0887\"],[0.1111111111111111,\"#46039f\"],[0.2222222222222222,\"#7201a8\"],[0.3333333333333333,\"#9c179e\"],[0.4444444444444444,\"#bd3786\"],[0.5555555555555556,\"#d8576b\"],[0.6666666666666666,\"#ed7953\"],[0.7777777777777778,\"#fb9f3a\"],[0.8888888888888888,\"#fdca26\"],[1.0,\"#f0f921\"]]}],\"heatmap\":[{\"type\":\"heatmap\",\"colorbar\":{\"outlinewidth\":0,\"ticks\":\"\"},\"colorscale\":[[0.0,\"#0d0887\"],[0.1111111111111111,\"#46039f\"],[0.2222222222222222,\"#7201a8\"],[0.3333333333333333,\"#9c179e\"],[0.4444444444444444,\"#bd3786\"],[0.5555555555555556,\"#d8576b\"],[0.6666666666666666,\"#ed7953\"],[0.7777777777777778,\"#fb9f3a\"],[0.8888888888888888,\"#fdca26\"],[1.0,\"#f0f921\"]]}],\"heatmapgl\":[{\"type\":\"heatmapgl\",\"colorbar\":{\"outlinewidth\":0,\"ticks\":\"\"},\"colorscale\":[[0.0,\"#0d0887\"],[0.1111111111111111,\"#46039f\"],[0.2222222222222222,\"#7201a8\"],[0.3333333333333333,\"#9c179e\"],[0.4444444444444444,\"#bd3786\"],[0.5555555555555556,\"#d8576b\"],[0.6666666666666666,\"#ed7953\"],[0.7777777777777778,\"#fb9f3a\"],[0.8888888888888888,\"#fdca26\"],[1.0,\"#f0f921\"]]}],\"contourcarpet\":[{\"type\":\"contourcarpet\",\"colorbar\":{\"outlinewidth\":0,\"ticks\":\"\"}}],\"contour\":[{\"type\":\"contour\",\"colorbar\":{\"outlinewidth\":0,\"ticks\":\"\"},\"colorscale\":[[0.0,\"#0d0887\"],[0.1111111111111111,\"#46039f\"],[0.2222222222222222,\"#7201a8\"],[0.3333333333333333,\"#9c179e\"],[0.4444444444444444,\"#bd3786\"],[0.5555555555555556,\"#d8576b\"],[0.6666666666666666,\"#ed7953\"],[0.7777777777777778,\"#fb9f3a\"],[0.8888888888888888,\"#fdca26\"],[1.0,\"#f0f921\"]]}],\"surface\":[{\"type\":\"surface\",\"colorbar\":{\"outlinewidth\":0,\"ticks\":\"\"},\"colorscale\":[[0.0,\"#0d0887\"],[0.1111111111111111,\"#46039f\"],[0.2222222222222222,\"#7201a8\"],[0.3333333333333333,\"#9c179e\"],[0.4444444444444444,\"#bd3786\"],[0.5555555555555556,\"#d8576b\"],[0.6666666666666666,\"#ed7953\"],[0.7777777777777778,\"#fb9f3a\"],[0.8888888888888888,\"#fdca26\"],[1.0,\"#f0f921\"]]}],\"mesh3d\":[{\"type\":\"mesh3d\",\"colorbar\":{\"outlinewidth\":0,\"ticks\":\"\"}}],\"scatter\":[{\"marker\":{\"line\":{\"color\":\"#283442\"}},\"type\":\"scatter\"}],\"parcoords\":[{\"type\":\"parcoords\",\"line\":{\"colorbar\":{\"outlinewidth\":0,\"ticks\":\"\"}}}],\"scatterpolargl\":[{\"type\":\"scatterpolargl\",\"marker\":{\"colorbar\":{\"outlinewidth\":0,\"ticks\":\"\"}}}],\"bar\":[{\"error_x\":{\"color\":\"#f2f5fa\"},\"error_y\":{\"color\":\"#f2f5fa\"},\"marker\":{\"line\":{\"color\":\"rgb(17,17,17)\",\"width\":0.5},\"pattern\":{\"fillmode\":\"overlay\",\"size\":10,\"solidity\":0.2}},\"type\":\"bar\"}],\"scattergeo\":[{\"type\":\"scattergeo\",\"marker\":{\"colorbar\":{\"outlinewidth\":0,\"ticks\":\"\"}}}],\"scatterpolar\":[{\"type\":\"scatterpolar\",\"marker\":{\"colorbar\":{\"outlinewidth\":0,\"ticks\":\"\"}}}],\"histogram\":[{\"marker\":{\"pattern\":{\"fillmode\":\"overlay\",\"size\":10,\"solidity\":0.2}},\"type\":\"histogram\"}],\"scattergl\":[{\"marker\":{\"line\":{\"color\":\"#283442\"}},\"type\":\"scattergl\"}],\"scatter3d\":[{\"type\":\"scatter3d\",\"line\":{\"colorbar\":{\"outlinewidth\":0,\"ticks\":\"\"}},\"marker\":{\"colorbar\":{\"outlinewidth\":0,\"ticks\":\"\"}}}],\"scattermapbox\":[{\"type\":\"scattermapbox\",\"marker\":{\"colorbar\":{\"outlinewidth\":0,\"ticks\":\"\"}}}],\"scatterternary\":[{\"type\":\"scatterternary\",\"marker\":{\"colorbar\":{\"outlinewidth\":0,\"ticks\":\"\"}}}],\"scattercarpet\":[{\"type\":\"scattercarpet\",\"marker\":{\"colorbar\":{\"outlinewidth\":0,\"ticks\":\"\"}}}],\"carpet\":[{\"aaxis\":{\"endlinecolor\":\"#A2B1C6\",\"gridcolor\":\"#506784\",\"linecolor\":\"#506784\",\"minorgridcolor\":\"#506784\",\"startlinecolor\":\"#A2B1C6\"},\"baxis\":{\"endlinecolor\":\"#A2B1C6\",\"gridcolor\":\"#506784\",\"linecolor\":\"#506784\",\"minorgridcolor\":\"#506784\",\"startlinecolor\":\"#A2B1C6\"},\"type\":\"carpet\"}],\"table\":[{\"cells\":{\"fill\":{\"color\":\"#506784\"},\"line\":{\"color\":\"rgb(17,17,17)\"}},\"header\":{\"fill\":{\"color\":\"#2a3f5f\"},\"line\":{\"color\":\"rgb(17,17,17)\"}},\"type\":\"table\"}],\"barpolar\":[{\"marker\":{\"line\":{\"color\":\"rgb(17,17,17)\",\"width\":0.5},\"pattern\":{\"fillmode\":\"overlay\",\"size\":10,\"solidity\":0.2}},\"type\":\"barpolar\"}],\"pie\":[{\"automargin\":true,\"type\":\"pie\"}]},\"layout\":{\"autotypenumbers\":\"strict\",\"colorway\":[\"#636efa\",\"#EF553B\",\"#00cc96\",\"#ab63fa\",\"#FFA15A\",\"#19d3f3\",\"#FF6692\",\"#B6E880\",\"#FF97FF\",\"#FECB52\"],\"font\":{\"color\":\"#f2f5fa\"},\"hovermode\":\"closest\",\"hoverlabel\":{\"align\":\"left\"},\"paper_bgcolor\":\"rgb(17,17,17)\",\"plot_bgcolor\":\"rgb(17,17,17)\",\"polar\":{\"bgcolor\":\"rgb(17,17,17)\",\"angularaxis\":{\"gridcolor\":\"#506784\",\"linecolor\":\"#506784\",\"ticks\":\"\"},\"radialaxis\":{\"gridcolor\":\"#506784\",\"linecolor\":\"#506784\",\"ticks\":\"\"}},\"ternary\":{\"bgcolor\":\"rgb(17,17,17)\",\"aaxis\":{\"gridcolor\":\"#506784\",\"linecolor\":\"#506784\",\"ticks\":\"\"},\"baxis\":{\"gridcolor\":\"#506784\",\"linecolor\":\"#506784\",\"ticks\":\"\"},\"caxis\":{\"gridcolor\":\"#506784\",\"linecolor\":\"#506784\",\"ticks\":\"\"}},\"coloraxis\":{\"colorbar\":{\"outlinewidth\":0,\"ticks\":\"\"}},\"colorscale\":{\"sequential\":[[0.0,\"#0d0887\"],[0.1111111111111111,\"#46039f\"],[0.2222222222222222,\"#7201a8\"],[0.3333333333333333,\"#9c179e\"],[0.4444444444444444,\"#bd3786\"],[0.5555555555555556,\"#d8576b\"],[0.6666666666666666,\"#ed7953\"],[0.7777777777777778,\"#fb9f3a\"],[0.8888888888888888,\"#fdca26\"],[1.0,\"#f0f921\"]],\"sequentialminus\":[[0.0,\"#0d0887\"],[0.1111111111111111,\"#46039f\"],[0.2222222222222222,\"#7201a8\"],[0.3333333333333333,\"#9c179e\"],[0.4444444444444444,\"#bd3786\"],[0.5555555555555556,\"#d8576b\"],[0.6666666666666666,\"#ed7953\"],[0.7777777777777778,\"#fb9f3a\"],[0.8888888888888888,\"#fdca26\"],[1.0,\"#f0f921\"]],\"diverging\":[[0,\"#8e0152\"],[0.1,\"#c51b7d\"],[0.2,\"#de77ae\"],[0.3,\"#f1b6da\"],[0.4,\"#fde0ef\"],[0.5,\"#f7f7f7\"],[0.6,\"#e6f5d0\"],[0.7,\"#b8e186\"],[0.8,\"#7fbc41\"],[0.9,\"#4d9221\"],[1,\"#276419\"]]},\"xaxis\":{\"gridcolor\":\"#283442\",\"linecolor\":\"#506784\",\"ticks\":\"\",\"title\":{\"standoff\":15},\"zerolinecolor\":\"#283442\",\"automargin\":true,\"zerolinewidth\":2},\"yaxis\":{\"gridcolor\":\"#283442\",\"linecolor\":\"#506784\",\"ticks\":\"\",\"title\":{\"standoff\":15},\"zerolinecolor\":\"#283442\",\"automargin\":true,\"zerolinewidth\":2},\"scene\":{\"xaxis\":{\"backgroundcolor\":\"rgb(17,17,17)\",\"gridcolor\":\"#506784\",\"linecolor\":\"#506784\",\"showbackground\":true,\"ticks\":\"\",\"zerolinecolor\":\"#C8D4E3\",\"gridwidth\":2},\"yaxis\":{\"backgroundcolor\":\"rgb(17,17,17)\",\"gridcolor\":\"#506784\",\"linecolor\":\"#506784\",\"showbackground\":true,\"ticks\":\"\",\"zerolinecolor\":\"#C8D4E3\",\"gridwidth\":2},\"zaxis\":{\"backgroundcolor\":\"rgb(17,17,17)\",\"gridcolor\":\"#506784\",\"linecolor\":\"#506784\",\"showbackground\":true,\"ticks\":\"\",\"zerolinecolor\":\"#C8D4E3\",\"gridwidth\":2}},\"shapedefaults\":{\"line\":{\"color\":\"#f2f5fa\"}},\"annotationdefaults\":{\"arrowcolor\":\"#f2f5fa\",\"arrowhead\":0,\"arrowwidth\":1},\"geo\":{\"bgcolor\":\"rgb(17,17,17)\",\"landcolor\":\"rgb(17,17,17)\",\"subunitcolor\":\"#506784\",\"showland\":true,\"showlakes\":true,\"lakecolor\":\"rgb(17,17,17)\"},\"title\":{\"x\":0.05},\"updatemenudefaults\":{\"bgcolor\":\"#506784\",\"borderwidth\":0},\"sliderdefaults\":{\"bgcolor\":\"#C8D4E3\",\"borderwidth\":1,\"bordercolor\":\"rgb(17,17,17)\",\"tickwidth\":0},\"mapbox\":{\"style\":\"dark\"}}},\"font\":{\"family\":\"Courier New, monospace\"},\"title\":{\"text\":\"Average Men and Women Height in Different Countries\"},\"xaxis\":{\"title\":{\"text\":\"Country\"},\"tickangle\":-45},\"yaxis\":{\"title\":{\"text\":\"Height [cm]\"}},\"barmode\":\"group\",\"updatemenus\":[{\"buttons\":[{\"args\":[{\"xaxis.type\":\"category\",\"xaxis.categoryorder\":\"array\",\"xaxis.categoryarray\":[\"Peru\",\"India\",\"South Africa\",\"China\",\"Uruguay\",\"Japan\",\"Ukraine\",\"United States\",\"Australia\",\"Belarus\",\"Russia\",\"Czech Republic\",\"Poland\",\"Germany\",\"Slovakia\",\"Netherlands\",\"Latvia\",\"Lithuania\"]}],\"label\":\"Sort by Men Height Ascending\",\"method\":\"relayout\"},{\"args\":[{\"xaxis.type\":\"category\",\"xaxis.categoryorder\":\"array\",\"xaxis.categoryarray\":[\"Peru\",\"India\",\"Uruguay\",\"China\",\"Japan\",\"South Africa\",\"United States\",\"Australia\",\"Ukraine\",\"Russia\",\"Czech Republic\",\"Belarus\",\"Poland\",\"Slovakia\",\"Germany\",\"Lithuania\",\"Netherlands\",\"Latvia\"]}],\"label\":\"Sort by Women Height Ascending\",\"method\":\"relayout\"},{\"args\":[\"visible\",[true,true]],\"label\":\"Both Men and Women Height visible\",\"method\":\"restyle\"},{\"args\":[\"visible\",[false,true]],\"label\":\"Only Men Height visible\",\"method\":\"restyle\"},{\"args\":[\"visible\",[true,false]],\"label\":\"Only Women Height visible\",\"method\":\"restyle\"}]}]},                        {\"responsive\": true}                    ).then(function(){\n                            \nvar gd = document.getElementById('bf8780e3-b7d9-4a3f-b9eb-724910bafaf2');\nvar x = new MutationObserver(function (mutations, observer) {{\n        var display = window.getComputedStyle(gd).display;\n        if (!display || display === 'none') {{\n            console.log([gd, 'removed!']);\n            Plotly.purge(gd);\n            observer.disconnect();\n        }}\n}});\n\n// Listen for the removal of the full notebook cells\nvar notebookContainer = gd.closest('#notebook-container');\nif (notebookContainer) {{\n    x.observe(notebookContainer, {childList: true});\n}}\n\n// Listen for the clearing of the current output cell\nvar outputEl = gd.closest('.output');\nif (outputEl) {{\n    x.observe(outputEl, {childList: true});\n}}\n\n                        })                };                });            </script>        </div>"
     },
     "metadata": {},
     "output_type": "display_data"
    }
   ],
   "source": [
    "# create bar plot in plotly\n",
    "# Create the bar plot\n",
    "fig=go.Figure(\n",
    "    data=[\n",
    "        go.Bar(name='Women Height', x=df['Country'], y=df['Female_Height']),\n",
    "        go.Bar(name='Men Height', x=df['Country'], y=df['Male_Height'])\n",
    "    ]\n",
    ")\n",
    "\n",
    "fig.update_layout(\n",
    "    title='Average Men and Women Height in Different Countries',\n",
    "    xaxis_title=\"Country\",\n",
    "    yaxis_title=\"Height [cm]\",\n",
    "    font=dict(\n",
    "        family=\"Courier New, monospace\"\n",
    "    )\n",
    ")\n",
    "fig.update_layout(barmode='group', xaxis_tickangle=-45)\n",
    "\n",
    "fig.update_layout(\n",
    "    updatemenus=[\n",
    "        dict(\n",
    "            buttons=list([\n",
    "                dict(\n",
    "                    label=\"Sort by Men Height Ascending\",\n",
    "                    method=\"relayout\",\n",
    "                    args=[{\"xaxis.type\":\"category\",\n",
    "                           'xaxis.categoryorder':'array',\n",
    "                           \"xaxis.categoryarray\": df.sort_values(by=\"Male_Height\",ascending=True)['Country'].tolist()\n",
    "                           }]\n",
    "                ),\n",
    "                dict(\n",
    "                    label=\"Sort by Women Height Ascending\",\n",
    "                    method=\"relayout\",\n",
    "                    args=[{\"xaxis.type\":\"category\",\n",
    "                           'xaxis.categoryorder':'array',\n",
    "                           \"xaxis.categoryarray\": df.sort_values(by=\"Female_Height\",ascending=True)['Country'].tolist()\n",
    "                           }]\n",
    "                ),\n",
    "                dict(\n",
    "                    method='restyle',\n",
    "                    args=['visible', [True, True]],\n",
    "                    label='Both Men and Women Height visible'\n",
    "                ),\n",
    "                dict(\n",
    "                    method='restyle',\n",
    "                    args=['visible', [False, True]],\n",
    "                    label='Only Men Height visible'\n",
    "                ),\n",
    "                dict(\n",
    "                    method='restyle',\n",
    "                    args=['visible', [True, False]],\n",
    "                    label='Only Women Height visible'\n",
    "                )\n",
    "            ])\n",
    "        )\n",
    "    ]\n",
    ")\n",
    "\n",
    "fig.show()\n",
    "fig.write_html(\"./plot.html\")"
   ],
   "metadata": {
    "collapsed": false,
    "ExecuteTime": {
     "end_time": "2023-12-10T21:41:12.470153Z",
     "start_time": "2023-12-10T21:41:12.446169Z"
    }
   },
   "id": "8dee8c4a01b1d6c0"
  },
  {
   "cell_type": "markdown",
   "source": [
    "## Co jest lepiej na moim wykresie?\n",
    "- Użyłem danych z wikipedii, które są dokadniej podane i wydać nawet małe różnice pomiędzy krajami\n",
    "- Wykres zaczyna się od zera\n",
    "- Wykres jest czytelniejszy, ponieważ słupki to słupki, a nie symbole kobiet\n",
    "- Dodano więcej krajów co daje jeszcze lepszy kontekst i możliwość porównania dla czytelnika\n",
    "- Dodano wartości wysokości dla mężczyzn dla lepszego kontekstu i porównania\n",
    "- Dodano możliwość sortowania po wysokości kobiet i mężczyzn\n",
    "- Dodano możliwość wyświetlania tylko kobiet, tylko mężczyzn lub obu\n",
    "- Przez interaktywność wykresu można dokładnie przeczytać wartości wysokości\n",
    "- Zamieniono jednostki imperialne na metryczne, przez co wykres jest bardziej czytelny i zrozumiały dla większości ludzkości, lecz to trochę kwestia subiektywna"
   ],
   "metadata": {
    "collapsed": false
   },
   "id": "829e72896a114993"
  },
  {
   "cell_type": "code",
   "execution_count": null,
   "outputs": [],
   "source": [],
   "metadata": {
    "collapsed": false
   },
   "id": "42df21cc98c7336e"
  }
 ],
 "metadata": {
  "kernelspec": {
   "display_name": "Python 3",
   "language": "python",
   "name": "python3"
  },
  "language_info": {
   "codemirror_mode": {
    "name": "ipython",
    "version": 2
   },
   "file_extension": ".py",
   "mimetype": "text/x-python",
   "name": "python",
   "nbconvert_exporter": "python",
   "pygments_lexer": "ipython2",
   "version": "2.7.6"
  }
 },
 "nbformat": 4,
 "nbformat_minor": 5
}
