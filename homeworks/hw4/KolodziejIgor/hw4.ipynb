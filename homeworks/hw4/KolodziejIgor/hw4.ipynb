{
 "cells": [
  {
   "cell_type": "markdown",
   "source": [
    "Wyjściowy wykres nie jest najgorszy, aczkolwiek niepotrzebnie skomplikowany. Przy niewielkich zmianach na przełomie 2015 i 2017 trudno jest odczytać zmianę na podstawie nachylenia odcinków, co dodatkowo utrudniają nakładające się kropki w niektórych miejscach. Ponadto zawiera on niepotrzebnie dużo pustej przestrzeni. Postanowiłem więc zaprezentować dane w bardziej przyjaznej dla użytkownika formie interaktywnego wykresu słupkowego. Pozwala on wybrać za pomocą rozwijanej listy uporządkowanie zestawienia, wybrać interesujące nas stany za pomocą suwaka oraz, dzięki współdzielonej osi y, łatwo porównać wartości wybranych stanów z wynikiem krajowym, który zawsze znajduje się po prawej stronie. Ponadto wszystkie interesujące nas wartości można odczytać najeżdżając na poszczególne słupki, a jeżeli któreś nas nie interesują, to możemy je usunąć odznaczając je w legendzie.\n",
    "\n",
    "Źródło: https://getdolphins.com/blog/the-worst-graphs-of-2017/"
   ],
   "metadata": {
    "collapsed": false
   },
   "id": "19989a8b7c56182b"
  },
  {
   "cell_type": "code",
   "execution_count": 15,
   "outputs": [],
   "source": [
    "import pandas as pd\n",
    "import plotly.graph_objects as go\n",
    "from plotly.subplots import make_subplots"
   ],
   "metadata": {
    "collapsed": false,
    "ExecuteTime": {
     "end_time": "2023-12-10T14:52:56.049199174Z",
     "start_time": "2023-12-10T14:52:56.007941825Z"
    }
   },
   "id": "2ea6e9f4b1292178"
  },
  {
   "cell_type": "code",
   "execution_count": 16,
   "outputs": [
    {
     "data": {
      "text/plain": "    state  2015  2017  difference\n0  Hawaii  53.3  50.5        -2.8\n1    N.Y.  44.7  45.3         0.6\n2     Ore  32.3  34.1         1.8\n3    Mass  31.0  25.8        -5.2\n4     Nev  29.7  26.6        -3.1",
      "text/html": "<div>\n<style scoped>\n    .dataframe tbody tr th:only-of-type {\n        vertical-align: middle;\n    }\n\n    .dataframe tbody tr th {\n        vertical-align: top;\n    }\n\n    .dataframe thead th {\n        text-align: right;\n    }\n</style>\n<table border=\"1\" class=\"dataframe\">\n  <thead>\n    <tr style=\"text-align: right;\">\n      <th></th>\n      <th>state</th>\n      <th>2015</th>\n      <th>2017</th>\n      <th>difference</th>\n    </tr>\n  </thead>\n  <tbody>\n    <tr>\n      <th>0</th>\n      <td>Hawaii</td>\n      <td>53.3</td>\n      <td>50.5</td>\n      <td>-2.8</td>\n    </tr>\n    <tr>\n      <th>1</th>\n      <td>N.Y.</td>\n      <td>44.7</td>\n      <td>45.3</td>\n      <td>0.6</td>\n    </tr>\n    <tr>\n      <th>2</th>\n      <td>Ore</td>\n      <td>32.3</td>\n      <td>34.1</td>\n      <td>1.8</td>\n    </tr>\n    <tr>\n      <th>3</th>\n      <td>Mass</td>\n      <td>31.0</td>\n      <td>25.8</td>\n      <td>-5.2</td>\n    </tr>\n    <tr>\n      <th>4</th>\n      <td>Nev</td>\n      <td>29.7</td>\n      <td>26.6</td>\n      <td>-3.1</td>\n    </tr>\n  </tbody>\n</table>\n</div>"
     },
     "execution_count": 16,
     "metadata": {},
     "output_type": "execute_result"
    }
   ],
   "source": [
    "df = pd.DataFrame({\n",
    "    'state': [\"Hawaii\", \"N.Y.\", \"Ore\", \"Mass\", \"Nev\", \"Calif\", \"Wash\", \"Alaska\", \"Vt\", \"Colo\", \"Maine\", \"Fla\"],\n",
    "    \"2015\": [53.3, 44.7, 32.3, 31.0, 29.7, 29.5, 26.6, 26.4, 24.4, 18.0, 17.8, 17.4],\n",
    "    \"2017\": [50.5, 45.3, 34.1, 25.8, 26.6, 34.2, 29.0, 24.9, 19.6, 19.7, 17.1, 15.6]\n",
    "})\n",
    "\n",
    "df['difference'] = df['2017'] - df['2015']\n",
    "\n",
    "df.head()"
   ],
   "metadata": {
    "collapsed": false,
    "ExecuteTime": {
     "end_time": "2023-12-10T14:52:56.050787092Z",
     "start_time": "2023-12-10T14:52:56.049199164Z"
    }
   },
   "id": "9ac99afa486c72c5"
  },
  {
   "cell_type": "code",
   "execution_count": 17,
   "outputs": [
    {
     "data": {
      "application/vnd.plotly.v1+json": {
       "data": [
        {
         "name": "2015",
         "x": [
          "Hawaii",
          "N.Y.",
          "Ore",
          "Mass",
          "Nev",
          "Calif",
          "Wash",
          "Alaska",
          "Vt",
          "Colo",
          "Maine",
          "Fla"
         ],
         "y": [
          53.3,
          44.7,
          32.3,
          31.0,
          29.7,
          29.5,
          26.6,
          26.4,
          24.4,
          18.0,
          17.8,
          17.4
         ],
         "type": "bar",
         "xaxis": "x",
         "yaxis": "y"
        },
        {
         "name": "2017",
         "x": [
          "Hawaii",
          "N.Y.",
          "Ore",
          "Mass",
          "Nev",
          "Calif",
          "Wash",
          "Alaska",
          "Vt",
          "Colo",
          "Maine",
          "Fla"
         ],
         "y": [
          50.5,
          45.3,
          34.1,
          25.8,
          26.6,
          34.2,
          29.0,
          24.9,
          19.6,
          19.7,
          17.1,
          15.6
         ],
         "type": "bar",
         "xaxis": "x",
         "yaxis": "y"
        },
        {
         "name": "Difference",
         "x": [
          "Hawaii",
          "N.Y.",
          "Ore",
          "Mass",
          "Nev",
          "Calif",
          "Wash",
          "Alaska",
          "Vt",
          "Colo",
          "Maine",
          "Fla"
         ],
         "y": [
          -2.799999999999997,
          0.5999999999999943,
          1.8000000000000043,
          -5.199999999999999,
          -3.099999999999998,
          4.700000000000003,
          2.3999999999999986,
          -1.5,
          -4.799999999999997,
          1.6999999999999993,
          -0.6999999999999993,
          -1.799999999999999
         ],
         "type": "bar",
         "xaxis": "x",
         "yaxis": "y"
        },
        {
         "name": "2015",
         "x": [
          "US"
         ],
         "y": [
          17.3
         ],
         "type": "bar",
         "xaxis": "x2",
         "yaxis": "y2"
        },
        {
         "name": "2017",
         "x": [
          "US"
         ],
         "y": [
          17.0
         ],
         "type": "bar",
         "xaxis": "x2",
         "yaxis": "y2"
        },
        {
         "name": "Difference",
         "x": [
          "US"
         ],
         "y": [
          -0.3
         ],
         "type": "bar",
         "xaxis": "x2",
         "yaxis": "y2"
        }
       ],
       "layout": {
        "template": {
         "data": {
          "histogram2dcontour": [
           {
            "type": "histogram2dcontour",
            "colorbar": {
             "outlinewidth": 0,
             "ticks": ""
            },
            "colorscale": [
             [
              0.0,
              "#0d0887"
             ],
             [
              0.1111111111111111,
              "#46039f"
             ],
             [
              0.2222222222222222,
              "#7201a8"
             ],
             [
              0.3333333333333333,
              "#9c179e"
             ],
             [
              0.4444444444444444,
              "#bd3786"
             ],
             [
              0.5555555555555556,
              "#d8576b"
             ],
             [
              0.6666666666666666,
              "#ed7953"
             ],
             [
              0.7777777777777778,
              "#fb9f3a"
             ],
             [
              0.8888888888888888,
              "#fdca26"
             ],
             [
              1.0,
              "#f0f921"
             ]
            ]
           }
          ],
          "choropleth": [
           {
            "type": "choropleth",
            "colorbar": {
             "outlinewidth": 0,
             "ticks": ""
            }
           }
          ],
          "histogram2d": [
           {
            "type": "histogram2d",
            "colorbar": {
             "outlinewidth": 0,
             "ticks": ""
            },
            "colorscale": [
             [
              0.0,
              "#0d0887"
             ],
             [
              0.1111111111111111,
              "#46039f"
             ],
             [
              0.2222222222222222,
              "#7201a8"
             ],
             [
              0.3333333333333333,
              "#9c179e"
             ],
             [
              0.4444444444444444,
              "#bd3786"
             ],
             [
              0.5555555555555556,
              "#d8576b"
             ],
             [
              0.6666666666666666,
              "#ed7953"
             ],
             [
              0.7777777777777778,
              "#fb9f3a"
             ],
             [
              0.8888888888888888,
              "#fdca26"
             ],
             [
              1.0,
              "#f0f921"
             ]
            ]
           }
          ],
          "heatmap": [
           {
            "type": "heatmap",
            "colorbar": {
             "outlinewidth": 0,
             "ticks": ""
            },
            "colorscale": [
             [
              0.0,
              "#0d0887"
             ],
             [
              0.1111111111111111,
              "#46039f"
             ],
             [
              0.2222222222222222,
              "#7201a8"
             ],
             [
              0.3333333333333333,
              "#9c179e"
             ],
             [
              0.4444444444444444,
              "#bd3786"
             ],
             [
              0.5555555555555556,
              "#d8576b"
             ],
             [
              0.6666666666666666,
              "#ed7953"
             ],
             [
              0.7777777777777778,
              "#fb9f3a"
             ],
             [
              0.8888888888888888,
              "#fdca26"
             ],
             [
              1.0,
              "#f0f921"
             ]
            ]
           }
          ],
          "heatmapgl": [
           {
            "type": "heatmapgl",
            "colorbar": {
             "outlinewidth": 0,
             "ticks": ""
            },
            "colorscale": [
             [
              0.0,
              "#0d0887"
             ],
             [
              0.1111111111111111,
              "#46039f"
             ],
             [
              0.2222222222222222,
              "#7201a8"
             ],
             [
              0.3333333333333333,
              "#9c179e"
             ],
             [
              0.4444444444444444,
              "#bd3786"
             ],
             [
              0.5555555555555556,
              "#d8576b"
             ],
             [
              0.6666666666666666,
              "#ed7953"
             ],
             [
              0.7777777777777778,
              "#fb9f3a"
             ],
             [
              0.8888888888888888,
              "#fdca26"
             ],
             [
              1.0,
              "#f0f921"
             ]
            ]
           }
          ],
          "contourcarpet": [
           {
            "type": "contourcarpet",
            "colorbar": {
             "outlinewidth": 0,
             "ticks": ""
            }
           }
          ],
          "contour": [
           {
            "type": "contour",
            "colorbar": {
             "outlinewidth": 0,
             "ticks": ""
            },
            "colorscale": [
             [
              0.0,
              "#0d0887"
             ],
             [
              0.1111111111111111,
              "#46039f"
             ],
             [
              0.2222222222222222,
              "#7201a8"
             ],
             [
              0.3333333333333333,
              "#9c179e"
             ],
             [
              0.4444444444444444,
              "#bd3786"
             ],
             [
              0.5555555555555556,
              "#d8576b"
             ],
             [
              0.6666666666666666,
              "#ed7953"
             ],
             [
              0.7777777777777778,
              "#fb9f3a"
             ],
             [
              0.8888888888888888,
              "#fdca26"
             ],
             [
              1.0,
              "#f0f921"
             ]
            ]
           }
          ],
          "surface": [
           {
            "type": "surface",
            "colorbar": {
             "outlinewidth": 0,
             "ticks": ""
            },
            "colorscale": [
             [
              0.0,
              "#0d0887"
             ],
             [
              0.1111111111111111,
              "#46039f"
             ],
             [
              0.2222222222222222,
              "#7201a8"
             ],
             [
              0.3333333333333333,
              "#9c179e"
             ],
             [
              0.4444444444444444,
              "#bd3786"
             ],
             [
              0.5555555555555556,
              "#d8576b"
             ],
             [
              0.6666666666666666,
              "#ed7953"
             ],
             [
              0.7777777777777778,
              "#fb9f3a"
             ],
             [
              0.8888888888888888,
              "#fdca26"
             ],
             [
              1.0,
              "#f0f921"
             ]
            ]
           }
          ],
          "mesh3d": [
           {
            "type": "mesh3d",
            "colorbar": {
             "outlinewidth": 0,
             "ticks": ""
            }
           }
          ],
          "scatter": [
           {
            "fillpattern": {
             "fillmode": "overlay",
             "size": 10,
             "solidity": 0.2
            },
            "type": "scatter"
           }
          ],
          "parcoords": [
           {
            "type": "parcoords",
            "line": {
             "colorbar": {
              "outlinewidth": 0,
              "ticks": ""
             }
            }
           }
          ],
          "scatterpolargl": [
           {
            "type": "scatterpolargl",
            "marker": {
             "colorbar": {
              "outlinewidth": 0,
              "ticks": ""
             }
            }
           }
          ],
          "bar": [
           {
            "error_x": {
             "color": "#2a3f5f"
            },
            "error_y": {
             "color": "#2a3f5f"
            },
            "marker": {
             "line": {
              "color": "#E5ECF6",
              "width": 0.5
             },
             "pattern": {
              "fillmode": "overlay",
              "size": 10,
              "solidity": 0.2
             }
            },
            "type": "bar"
           }
          ],
          "scattergeo": [
           {
            "type": "scattergeo",
            "marker": {
             "colorbar": {
              "outlinewidth": 0,
              "ticks": ""
             }
            }
           }
          ],
          "scatterpolar": [
           {
            "type": "scatterpolar",
            "marker": {
             "colorbar": {
              "outlinewidth": 0,
              "ticks": ""
             }
            }
           }
          ],
          "histogram": [
           {
            "marker": {
             "pattern": {
              "fillmode": "overlay",
              "size": 10,
              "solidity": 0.2
             }
            },
            "type": "histogram"
           }
          ],
          "scattergl": [
           {
            "type": "scattergl",
            "marker": {
             "colorbar": {
              "outlinewidth": 0,
              "ticks": ""
             }
            }
           }
          ],
          "scatter3d": [
           {
            "type": "scatter3d",
            "line": {
             "colorbar": {
              "outlinewidth": 0,
              "ticks": ""
             }
            },
            "marker": {
             "colorbar": {
              "outlinewidth": 0,
              "ticks": ""
             }
            }
           }
          ],
          "scattermapbox": [
           {
            "type": "scattermapbox",
            "marker": {
             "colorbar": {
              "outlinewidth": 0,
              "ticks": ""
             }
            }
           }
          ],
          "scatterternary": [
           {
            "type": "scatterternary",
            "marker": {
             "colorbar": {
              "outlinewidth": 0,
              "ticks": ""
             }
            }
           }
          ],
          "scattercarpet": [
           {
            "type": "scattercarpet",
            "marker": {
             "colorbar": {
              "outlinewidth": 0,
              "ticks": ""
             }
            }
           }
          ],
          "carpet": [
           {
            "aaxis": {
             "endlinecolor": "#2a3f5f",
             "gridcolor": "white",
             "linecolor": "white",
             "minorgridcolor": "white",
             "startlinecolor": "#2a3f5f"
            },
            "baxis": {
             "endlinecolor": "#2a3f5f",
             "gridcolor": "white",
             "linecolor": "white",
             "minorgridcolor": "white",
             "startlinecolor": "#2a3f5f"
            },
            "type": "carpet"
           }
          ],
          "table": [
           {
            "cells": {
             "fill": {
              "color": "#EBF0F8"
             },
             "line": {
              "color": "white"
             }
            },
            "header": {
             "fill": {
              "color": "#C8D4E3"
             },
             "line": {
              "color": "white"
             }
            },
            "type": "table"
           }
          ],
          "barpolar": [
           {
            "marker": {
             "line": {
              "color": "#E5ECF6",
              "width": 0.5
             },
             "pattern": {
              "fillmode": "overlay",
              "size": 10,
              "solidity": 0.2
             }
            },
            "type": "barpolar"
           }
          ],
          "pie": [
           {
            "automargin": true,
            "type": "pie"
           }
          ]
         },
         "layout": {
          "autotypenumbers": "strict",
          "colorway": [
           "#636efa",
           "#EF553B",
           "#00cc96",
           "#ab63fa",
           "#FFA15A",
           "#19d3f3",
           "#FF6692",
           "#B6E880",
           "#FF97FF",
           "#FECB52"
          ],
          "font": {
           "color": "#2a3f5f"
          },
          "hovermode": "closest",
          "hoverlabel": {
           "align": "left"
          },
          "paper_bgcolor": "white",
          "plot_bgcolor": "#E5ECF6",
          "polar": {
           "bgcolor": "#E5ECF6",
           "angularaxis": {
            "gridcolor": "white",
            "linecolor": "white",
            "ticks": ""
           },
           "radialaxis": {
            "gridcolor": "white",
            "linecolor": "white",
            "ticks": ""
           }
          },
          "ternary": {
           "bgcolor": "#E5ECF6",
           "aaxis": {
            "gridcolor": "white",
            "linecolor": "white",
            "ticks": ""
           },
           "baxis": {
            "gridcolor": "white",
            "linecolor": "white",
            "ticks": ""
           },
           "caxis": {
            "gridcolor": "white",
            "linecolor": "white",
            "ticks": ""
           }
          },
          "coloraxis": {
           "colorbar": {
            "outlinewidth": 0,
            "ticks": ""
           }
          },
          "colorscale": {
           "sequential": [
            [
             0.0,
             "#0d0887"
            ],
            [
             0.1111111111111111,
             "#46039f"
            ],
            [
             0.2222222222222222,
             "#7201a8"
            ],
            [
             0.3333333333333333,
             "#9c179e"
            ],
            [
             0.4444444444444444,
             "#bd3786"
            ],
            [
             0.5555555555555556,
             "#d8576b"
            ],
            [
             0.6666666666666666,
             "#ed7953"
            ],
            [
             0.7777777777777778,
             "#fb9f3a"
            ],
            [
             0.8888888888888888,
             "#fdca26"
            ],
            [
             1.0,
             "#f0f921"
            ]
           ],
           "sequentialminus": [
            [
             0.0,
             "#0d0887"
            ],
            [
             0.1111111111111111,
             "#46039f"
            ],
            [
             0.2222222222222222,
             "#7201a8"
            ],
            [
             0.3333333333333333,
             "#9c179e"
            ],
            [
             0.4444444444444444,
             "#bd3786"
            ],
            [
             0.5555555555555556,
             "#d8576b"
            ],
            [
             0.6666666666666666,
             "#ed7953"
            ],
            [
             0.7777777777777778,
             "#fb9f3a"
            ],
            [
             0.8888888888888888,
             "#fdca26"
            ],
            [
             1.0,
             "#f0f921"
            ]
           ],
           "diverging": [
            [
             0,
             "#8e0152"
            ],
            [
             0.1,
             "#c51b7d"
            ],
            [
             0.2,
             "#de77ae"
            ],
            [
             0.3,
             "#f1b6da"
            ],
            [
             0.4,
             "#fde0ef"
            ],
            [
             0.5,
             "#f7f7f7"
            ],
            [
             0.6,
             "#e6f5d0"
            ],
            [
             0.7,
             "#b8e186"
            ],
            [
             0.8,
             "#7fbc41"
            ],
            [
             0.9,
             "#4d9221"
            ],
            [
             1,
             "#276419"
            ]
           ]
          },
          "xaxis": {
           "gridcolor": "white",
           "linecolor": "white",
           "ticks": "",
           "title": {
            "standoff": 15
           },
           "zerolinecolor": "white",
           "automargin": true,
           "zerolinewidth": 2
          },
          "yaxis": {
           "gridcolor": "white",
           "linecolor": "white",
           "ticks": "",
           "title": {
            "standoff": 15
           },
           "zerolinecolor": "white",
           "automargin": true,
           "zerolinewidth": 2
          },
          "scene": {
           "xaxis": {
            "backgroundcolor": "#E5ECF6",
            "gridcolor": "white",
            "linecolor": "white",
            "showbackground": true,
            "ticks": "",
            "zerolinecolor": "white",
            "gridwidth": 2
           },
           "yaxis": {
            "backgroundcolor": "#E5ECF6",
            "gridcolor": "white",
            "linecolor": "white",
            "showbackground": true,
            "ticks": "",
            "zerolinecolor": "white",
            "gridwidth": 2
           },
           "zaxis": {
            "backgroundcolor": "#E5ECF6",
            "gridcolor": "white",
            "linecolor": "white",
            "showbackground": true,
            "ticks": "",
            "zerolinecolor": "white",
            "gridwidth": 2
           }
          },
          "shapedefaults": {
           "line": {
            "color": "#2a3f5f"
           }
          },
          "annotationdefaults": {
           "arrowcolor": "#2a3f5f",
           "arrowhead": 0,
           "arrowwidth": 1
          },
          "geo": {
           "bgcolor": "white",
           "landcolor": "#E5ECF6",
           "subunitcolor": "white",
           "showland": true,
           "showlakes": true,
           "lakecolor": "white"
          },
          "title": {
           "x": 0.05
          },
          "mapbox": {
           "style": "light"
          }
         }
        },
        "xaxis": {
         "anchor": "y",
         "domain": [
          0.0,
          0.81
         ],
         "rangeslider": {
          "visible": true
         },
         "rangeselector": {
          "buttons": [
           {
            "count": 1,
            "label": "1y",
            "step": "year",
            "stepmode": "backward"
           },
           {
            "count": 2,
            "label": "2y",
            "step": "year",
            "stepmode": "backward"
           },
           {
            "count": 3,
            "label": "3y",
            "step": "year",
            "stepmode": "backward"
           },
           {
            "count": 4,
            "label": "4y",
            "step": "year",
            "stepmode": "backward"
           },
           {
            "count": 5,
            "label": "5y",
            "step": "year",
            "stepmode": "backward"
           },
           {
            "step": "all"
           }
          ]
         },
         "title": {
          "text": "State"
         }
        },
        "yaxis": {
         "anchor": "x",
         "domain": [
          0.0,
          1.0
         ],
         "title": {
          "text": "Homelessness rate"
         }
        },
        "xaxis2": {
         "anchor": "y2",
         "domain": [
          0.91,
          1.0
         ],
         "rangeslider": {
          "visible": true
         },
         "rangeselector": {
          "buttons": [
           {
            "count": 1,
            "label": "1y",
            "step": "year",
            "stepmode": "backward"
           },
           {
            "count": 2,
            "label": "2y",
            "step": "year",
            "stepmode": "backward"
           },
           {
            "count": 3,
            "label": "3y",
            "step": "year",
            "stepmode": "backward"
           },
           {
            "count": 4,
            "label": "4y",
            "step": "year",
            "stepmode": "backward"
           },
           {
            "count": 5,
            "label": "5y",
            "step": "year",
            "stepmode": "backward"
           },
           {
            "step": "all"
           }
          ]
         }
        },
        "yaxis2": {
         "anchor": "x2",
         "domain": [
          0.0,
          1.0
         ],
         "matches": "y",
         "showticklabels": false
        },
        "annotations": [
         {
          "font": {
           "size": 16
          },
          "showarrow": false,
          "text": "States",
          "x": 0.405,
          "xanchor": "center",
          "xref": "paper",
          "y": 1.0,
          "yanchor": "bottom",
          "yref": "paper"
         },
         {
          "font": {
           "size": 16
          },
          "showarrow": false,
          "text": "US",
          "x": 0.9550000000000001,
          "xanchor": "center",
          "xref": "paper",
          "y": 1.0,
          "yanchor": "bottom",
          "yref": "paper"
         }
        ],
        "hovermode": "x unified",
        "updatemenus": [
         {
          "buttons": [
           {
            "args": [
             {
              "xaxis.type": "category",
              "xaxis.categoryorder": "array",
              "xaxis.categoryarray": [
               "Fla",
               "Maine",
               "Vt",
               "Colo",
               "Alaska",
               "Mass",
               "Nev",
               "Wash",
               "Ore",
               "Calif",
               "N.Y.",
               "Hawaii"
              ]
             }
            ],
            "label": "Sort by 2017 Ascending",
            "method": "relayout"
           },
           {
            "args": [
             {
              "xaxis.type": "category",
              "xaxis.categoryorder": "array",
              "xaxis.categoryarray": [
               "Hawaii",
               "N.Y.",
               "Calif",
               "Ore",
               "Wash",
               "Nev",
               "Mass",
               "Alaska",
               "Colo",
               "Vt",
               "Maine",
               "Fla"
              ]
             }
            ],
            "label": "Sort by 2017 Descending",
            "method": "relayout"
           },
           {
            "args": [
             {
              "xaxis.type": "category",
              "xaxis.categoryorder": "array",
              "xaxis.categoryarray": [
               "Fla",
               "Maine",
               "Colo",
               "Vt",
               "Alaska",
               "Wash",
               "Calif",
               "Nev",
               "Mass",
               "Ore",
               "N.Y.",
               "Hawaii"
              ]
             }
            ],
            "label": "Sort by 2015 Ascending",
            "method": "relayout"
           },
           {
            "args": [
             {
              "xaxis.type": "category",
              "xaxis.categoryorder": "array",
              "xaxis.categoryarray": [
               "Hawaii",
               "N.Y.",
               "Ore",
               "Mass",
               "Nev",
               "Calif",
               "Wash",
               "Alaska",
               "Vt",
               "Colo",
               "Maine",
               "Fla"
              ]
             }
            ],
            "label": "Sort by 2015 Descending",
            "method": "relayout"
           },
           {
            "args": [
             {
              "xaxis.type": "category",
              "xaxis.categoryorder": "array",
              "xaxis.categoryarray": [
               "Mass",
               "Vt",
               "Nev",
               "Hawaii",
               "Fla",
               "Alaska",
               "Maine",
               "N.Y.",
               "Colo",
               "Ore",
               "Wash",
               "Calif"
              ]
             }
            ],
            "label": "Sort by Difference Ascending",
            "method": "relayout"
           },
           {
            "args": [
             {
              "xaxis.type": "category",
              "xaxis.categoryorder": "array",
              "xaxis.categoryarray": [
               "Calif",
               "Wash",
               "Ore",
               "Colo",
               "N.Y.",
               "Maine",
               "Alaska",
               "Fla",
               "Hawaii",
               "Nev",
               "Vt",
               "Mass"
              ]
             }
            ],
            "label": "Sort by Difference Descending",
            "method": "relayout"
           }
          ],
          "direction": "down",
          "pad": {
           "r": 10,
           "t": 10
          },
          "showactive": true,
          "x": 0.6,
          "xanchor": "left",
          "y": 1.4,
          "yanchor": "top"
         }
        ],
        "title": {
         "text": "Comparison of top ten states with the highest rate of homelessness in 2015 and 2017"
        }
       },
       "config": {
        "plotlyServerURL": "https://plot.ly"
       }
      },
      "text/html": "<div>                            <div id=\"b9a10072-ad63-4cb0-9f06-0a50453a1c37\" class=\"plotly-graph-div\" style=\"height:525px; width:100%;\"></div>            <script type=\"text/javascript\">                require([\"plotly\"], function(Plotly) {                    window.PLOTLYENV=window.PLOTLYENV || {};                                    if (document.getElementById(\"b9a10072-ad63-4cb0-9f06-0a50453a1c37\")) {                    Plotly.newPlot(                        \"b9a10072-ad63-4cb0-9f06-0a50453a1c37\",                        [{\"name\":\"2015\",\"x\":[\"Hawaii\",\"N.Y.\",\"Ore\",\"Mass\",\"Nev\",\"Calif\",\"Wash\",\"Alaska\",\"Vt\",\"Colo\",\"Maine\",\"Fla\"],\"y\":[53.3,44.7,32.3,31.0,29.7,29.5,26.6,26.4,24.4,18.0,17.8,17.4],\"type\":\"bar\",\"xaxis\":\"x\",\"yaxis\":\"y\"},{\"name\":\"2017\",\"x\":[\"Hawaii\",\"N.Y.\",\"Ore\",\"Mass\",\"Nev\",\"Calif\",\"Wash\",\"Alaska\",\"Vt\",\"Colo\",\"Maine\",\"Fla\"],\"y\":[50.5,45.3,34.1,25.8,26.6,34.2,29.0,24.9,19.6,19.7,17.1,15.6],\"type\":\"bar\",\"xaxis\":\"x\",\"yaxis\":\"y\"},{\"name\":\"Difference\",\"x\":[\"Hawaii\",\"N.Y.\",\"Ore\",\"Mass\",\"Nev\",\"Calif\",\"Wash\",\"Alaska\",\"Vt\",\"Colo\",\"Maine\",\"Fla\"],\"y\":[-2.799999999999997,0.5999999999999943,1.8000000000000043,-5.199999999999999,-3.099999999999998,4.700000000000003,2.3999999999999986,-1.5,-4.799999999999997,1.6999999999999993,-0.6999999999999993,-1.799999999999999],\"type\":\"bar\",\"xaxis\":\"x\",\"yaxis\":\"y\"},{\"name\":\"2015\",\"x\":[\"US\"],\"y\":[17.3],\"type\":\"bar\",\"xaxis\":\"x2\",\"yaxis\":\"y2\"},{\"name\":\"2017\",\"x\":[\"US\"],\"y\":[17.0],\"type\":\"bar\",\"xaxis\":\"x2\",\"yaxis\":\"y2\"},{\"name\":\"Difference\",\"x\":[\"US\"],\"y\":[-0.3],\"type\":\"bar\",\"xaxis\":\"x2\",\"yaxis\":\"y2\"}],                        {\"template\":{\"data\":{\"histogram2dcontour\":[{\"type\":\"histogram2dcontour\",\"colorbar\":{\"outlinewidth\":0,\"ticks\":\"\"},\"colorscale\":[[0.0,\"#0d0887\"],[0.1111111111111111,\"#46039f\"],[0.2222222222222222,\"#7201a8\"],[0.3333333333333333,\"#9c179e\"],[0.4444444444444444,\"#bd3786\"],[0.5555555555555556,\"#d8576b\"],[0.6666666666666666,\"#ed7953\"],[0.7777777777777778,\"#fb9f3a\"],[0.8888888888888888,\"#fdca26\"],[1.0,\"#f0f921\"]]}],\"choropleth\":[{\"type\":\"choropleth\",\"colorbar\":{\"outlinewidth\":0,\"ticks\":\"\"}}],\"histogram2d\":[{\"type\":\"histogram2d\",\"colorbar\":{\"outlinewidth\":0,\"ticks\":\"\"},\"colorscale\":[[0.0,\"#0d0887\"],[0.1111111111111111,\"#46039f\"],[0.2222222222222222,\"#7201a8\"],[0.3333333333333333,\"#9c179e\"],[0.4444444444444444,\"#bd3786\"],[0.5555555555555556,\"#d8576b\"],[0.6666666666666666,\"#ed7953\"],[0.7777777777777778,\"#fb9f3a\"],[0.8888888888888888,\"#fdca26\"],[1.0,\"#f0f921\"]]}],\"heatmap\":[{\"type\":\"heatmap\",\"colorbar\":{\"outlinewidth\":0,\"ticks\":\"\"},\"colorscale\":[[0.0,\"#0d0887\"],[0.1111111111111111,\"#46039f\"],[0.2222222222222222,\"#7201a8\"],[0.3333333333333333,\"#9c179e\"],[0.4444444444444444,\"#bd3786\"],[0.5555555555555556,\"#d8576b\"],[0.6666666666666666,\"#ed7953\"],[0.7777777777777778,\"#fb9f3a\"],[0.8888888888888888,\"#fdca26\"],[1.0,\"#f0f921\"]]}],\"heatmapgl\":[{\"type\":\"heatmapgl\",\"colorbar\":{\"outlinewidth\":0,\"ticks\":\"\"},\"colorscale\":[[0.0,\"#0d0887\"],[0.1111111111111111,\"#46039f\"],[0.2222222222222222,\"#7201a8\"],[0.3333333333333333,\"#9c179e\"],[0.4444444444444444,\"#bd3786\"],[0.5555555555555556,\"#d8576b\"],[0.6666666666666666,\"#ed7953\"],[0.7777777777777778,\"#fb9f3a\"],[0.8888888888888888,\"#fdca26\"],[1.0,\"#f0f921\"]]}],\"contourcarpet\":[{\"type\":\"contourcarpet\",\"colorbar\":{\"outlinewidth\":0,\"ticks\":\"\"}}],\"contour\":[{\"type\":\"contour\",\"colorbar\":{\"outlinewidth\":0,\"ticks\":\"\"},\"colorscale\":[[0.0,\"#0d0887\"],[0.1111111111111111,\"#46039f\"],[0.2222222222222222,\"#7201a8\"],[0.3333333333333333,\"#9c179e\"],[0.4444444444444444,\"#bd3786\"],[0.5555555555555556,\"#d8576b\"],[0.6666666666666666,\"#ed7953\"],[0.7777777777777778,\"#fb9f3a\"],[0.8888888888888888,\"#fdca26\"],[1.0,\"#f0f921\"]]}],\"surface\":[{\"type\":\"surface\",\"colorbar\":{\"outlinewidth\":0,\"ticks\":\"\"},\"colorscale\":[[0.0,\"#0d0887\"],[0.1111111111111111,\"#46039f\"],[0.2222222222222222,\"#7201a8\"],[0.3333333333333333,\"#9c179e\"],[0.4444444444444444,\"#bd3786\"],[0.5555555555555556,\"#d8576b\"],[0.6666666666666666,\"#ed7953\"],[0.7777777777777778,\"#fb9f3a\"],[0.8888888888888888,\"#fdca26\"],[1.0,\"#f0f921\"]]}],\"mesh3d\":[{\"type\":\"mesh3d\",\"colorbar\":{\"outlinewidth\":0,\"ticks\":\"\"}}],\"scatter\":[{\"fillpattern\":{\"fillmode\":\"overlay\",\"size\":10,\"solidity\":0.2},\"type\":\"scatter\"}],\"parcoords\":[{\"type\":\"parcoords\",\"line\":{\"colorbar\":{\"outlinewidth\":0,\"ticks\":\"\"}}}],\"scatterpolargl\":[{\"type\":\"scatterpolargl\",\"marker\":{\"colorbar\":{\"outlinewidth\":0,\"ticks\":\"\"}}}],\"bar\":[{\"error_x\":{\"color\":\"#2a3f5f\"},\"error_y\":{\"color\":\"#2a3f5f\"},\"marker\":{\"line\":{\"color\":\"#E5ECF6\",\"width\":0.5},\"pattern\":{\"fillmode\":\"overlay\",\"size\":10,\"solidity\":0.2}},\"type\":\"bar\"}],\"scattergeo\":[{\"type\":\"scattergeo\",\"marker\":{\"colorbar\":{\"outlinewidth\":0,\"ticks\":\"\"}}}],\"scatterpolar\":[{\"type\":\"scatterpolar\",\"marker\":{\"colorbar\":{\"outlinewidth\":0,\"ticks\":\"\"}}}],\"histogram\":[{\"marker\":{\"pattern\":{\"fillmode\":\"overlay\",\"size\":10,\"solidity\":0.2}},\"type\":\"histogram\"}],\"scattergl\":[{\"type\":\"scattergl\",\"marker\":{\"colorbar\":{\"outlinewidth\":0,\"ticks\":\"\"}}}],\"scatter3d\":[{\"type\":\"scatter3d\",\"line\":{\"colorbar\":{\"outlinewidth\":0,\"ticks\":\"\"}},\"marker\":{\"colorbar\":{\"outlinewidth\":0,\"ticks\":\"\"}}}],\"scattermapbox\":[{\"type\":\"scattermapbox\",\"marker\":{\"colorbar\":{\"outlinewidth\":0,\"ticks\":\"\"}}}],\"scatterternary\":[{\"type\":\"scatterternary\",\"marker\":{\"colorbar\":{\"outlinewidth\":0,\"ticks\":\"\"}}}],\"scattercarpet\":[{\"type\":\"scattercarpet\",\"marker\":{\"colorbar\":{\"outlinewidth\":0,\"ticks\":\"\"}}}],\"carpet\":[{\"aaxis\":{\"endlinecolor\":\"#2a3f5f\",\"gridcolor\":\"white\",\"linecolor\":\"white\",\"minorgridcolor\":\"white\",\"startlinecolor\":\"#2a3f5f\"},\"baxis\":{\"endlinecolor\":\"#2a3f5f\",\"gridcolor\":\"white\",\"linecolor\":\"white\",\"minorgridcolor\":\"white\",\"startlinecolor\":\"#2a3f5f\"},\"type\":\"carpet\"}],\"table\":[{\"cells\":{\"fill\":{\"color\":\"#EBF0F8\"},\"line\":{\"color\":\"white\"}},\"header\":{\"fill\":{\"color\":\"#C8D4E3\"},\"line\":{\"color\":\"white\"}},\"type\":\"table\"}],\"barpolar\":[{\"marker\":{\"line\":{\"color\":\"#E5ECF6\",\"width\":0.5},\"pattern\":{\"fillmode\":\"overlay\",\"size\":10,\"solidity\":0.2}},\"type\":\"barpolar\"}],\"pie\":[{\"automargin\":true,\"type\":\"pie\"}]},\"layout\":{\"autotypenumbers\":\"strict\",\"colorway\":[\"#636efa\",\"#EF553B\",\"#00cc96\",\"#ab63fa\",\"#FFA15A\",\"#19d3f3\",\"#FF6692\",\"#B6E880\",\"#FF97FF\",\"#FECB52\"],\"font\":{\"color\":\"#2a3f5f\"},\"hovermode\":\"closest\",\"hoverlabel\":{\"align\":\"left\"},\"paper_bgcolor\":\"white\",\"plot_bgcolor\":\"#E5ECF6\",\"polar\":{\"bgcolor\":\"#E5ECF6\",\"angularaxis\":{\"gridcolor\":\"white\",\"linecolor\":\"white\",\"ticks\":\"\"},\"radialaxis\":{\"gridcolor\":\"white\",\"linecolor\":\"white\",\"ticks\":\"\"}},\"ternary\":{\"bgcolor\":\"#E5ECF6\",\"aaxis\":{\"gridcolor\":\"white\",\"linecolor\":\"white\",\"ticks\":\"\"},\"baxis\":{\"gridcolor\":\"white\",\"linecolor\":\"white\",\"ticks\":\"\"},\"caxis\":{\"gridcolor\":\"white\",\"linecolor\":\"white\",\"ticks\":\"\"}},\"coloraxis\":{\"colorbar\":{\"outlinewidth\":0,\"ticks\":\"\"}},\"colorscale\":{\"sequential\":[[0.0,\"#0d0887\"],[0.1111111111111111,\"#46039f\"],[0.2222222222222222,\"#7201a8\"],[0.3333333333333333,\"#9c179e\"],[0.4444444444444444,\"#bd3786\"],[0.5555555555555556,\"#d8576b\"],[0.6666666666666666,\"#ed7953\"],[0.7777777777777778,\"#fb9f3a\"],[0.8888888888888888,\"#fdca26\"],[1.0,\"#f0f921\"]],\"sequentialminus\":[[0.0,\"#0d0887\"],[0.1111111111111111,\"#46039f\"],[0.2222222222222222,\"#7201a8\"],[0.3333333333333333,\"#9c179e\"],[0.4444444444444444,\"#bd3786\"],[0.5555555555555556,\"#d8576b\"],[0.6666666666666666,\"#ed7953\"],[0.7777777777777778,\"#fb9f3a\"],[0.8888888888888888,\"#fdca26\"],[1.0,\"#f0f921\"]],\"diverging\":[[0,\"#8e0152\"],[0.1,\"#c51b7d\"],[0.2,\"#de77ae\"],[0.3,\"#f1b6da\"],[0.4,\"#fde0ef\"],[0.5,\"#f7f7f7\"],[0.6,\"#e6f5d0\"],[0.7,\"#b8e186\"],[0.8,\"#7fbc41\"],[0.9,\"#4d9221\"],[1,\"#276419\"]]},\"xaxis\":{\"gridcolor\":\"white\",\"linecolor\":\"white\",\"ticks\":\"\",\"title\":{\"standoff\":15},\"zerolinecolor\":\"white\",\"automargin\":true,\"zerolinewidth\":2},\"yaxis\":{\"gridcolor\":\"white\",\"linecolor\":\"white\",\"ticks\":\"\",\"title\":{\"standoff\":15},\"zerolinecolor\":\"white\",\"automargin\":true,\"zerolinewidth\":2},\"scene\":{\"xaxis\":{\"backgroundcolor\":\"#E5ECF6\",\"gridcolor\":\"white\",\"linecolor\":\"white\",\"showbackground\":true,\"ticks\":\"\",\"zerolinecolor\":\"white\",\"gridwidth\":2},\"yaxis\":{\"backgroundcolor\":\"#E5ECF6\",\"gridcolor\":\"white\",\"linecolor\":\"white\",\"showbackground\":true,\"ticks\":\"\",\"zerolinecolor\":\"white\",\"gridwidth\":2},\"zaxis\":{\"backgroundcolor\":\"#E5ECF6\",\"gridcolor\":\"white\",\"linecolor\":\"white\",\"showbackground\":true,\"ticks\":\"\",\"zerolinecolor\":\"white\",\"gridwidth\":2}},\"shapedefaults\":{\"line\":{\"color\":\"#2a3f5f\"}},\"annotationdefaults\":{\"arrowcolor\":\"#2a3f5f\",\"arrowhead\":0,\"arrowwidth\":1},\"geo\":{\"bgcolor\":\"white\",\"landcolor\":\"#E5ECF6\",\"subunitcolor\":\"white\",\"showland\":true,\"showlakes\":true,\"lakecolor\":\"white\"},\"title\":{\"x\":0.05},\"mapbox\":{\"style\":\"light\"}}},\"xaxis\":{\"anchor\":\"y\",\"domain\":[0.0,0.81],\"rangeslider\":{\"visible\":true},\"rangeselector\":{\"buttons\":[{\"count\":1,\"label\":\"1y\",\"step\":\"year\",\"stepmode\":\"backward\"},{\"count\":2,\"label\":\"2y\",\"step\":\"year\",\"stepmode\":\"backward\"},{\"count\":3,\"label\":\"3y\",\"step\":\"year\",\"stepmode\":\"backward\"},{\"count\":4,\"label\":\"4y\",\"step\":\"year\",\"stepmode\":\"backward\"},{\"count\":5,\"label\":\"5y\",\"step\":\"year\",\"stepmode\":\"backward\"},{\"step\":\"all\"}]},\"title\":{\"text\":\"State\"}},\"yaxis\":{\"anchor\":\"x\",\"domain\":[0.0,1.0],\"title\":{\"text\":\"Homelessness rate\"}},\"xaxis2\":{\"anchor\":\"y2\",\"domain\":[0.91,1.0],\"rangeslider\":{\"visible\":true},\"rangeselector\":{\"buttons\":[{\"count\":1,\"label\":\"1y\",\"step\":\"year\",\"stepmode\":\"backward\"},{\"count\":2,\"label\":\"2y\",\"step\":\"year\",\"stepmode\":\"backward\"},{\"count\":3,\"label\":\"3y\",\"step\":\"year\",\"stepmode\":\"backward\"},{\"count\":4,\"label\":\"4y\",\"step\":\"year\",\"stepmode\":\"backward\"},{\"count\":5,\"label\":\"5y\",\"step\":\"year\",\"stepmode\":\"backward\"},{\"step\":\"all\"}]}},\"yaxis2\":{\"anchor\":\"x2\",\"domain\":[0.0,1.0],\"matches\":\"y\",\"showticklabels\":false},\"annotations\":[{\"font\":{\"size\":16},\"showarrow\":false,\"text\":\"States\",\"x\":0.405,\"xanchor\":\"center\",\"xref\":\"paper\",\"y\":1.0,\"yanchor\":\"bottom\",\"yref\":\"paper\"},{\"font\":{\"size\":16},\"showarrow\":false,\"text\":\"US\",\"x\":0.9550000000000001,\"xanchor\":\"center\",\"xref\":\"paper\",\"y\":1.0,\"yanchor\":\"bottom\",\"yref\":\"paper\"}],\"hovermode\":\"x unified\",\"updatemenus\":[{\"buttons\":[{\"args\":[{\"xaxis.type\":\"category\",\"xaxis.categoryorder\":\"array\",\"xaxis.categoryarray\":[\"Fla\",\"Maine\",\"Vt\",\"Colo\",\"Alaska\",\"Mass\",\"Nev\",\"Wash\",\"Ore\",\"Calif\",\"N.Y.\",\"Hawaii\"]}],\"label\":\"Sort by 2017 Ascending\",\"method\":\"relayout\"},{\"args\":[{\"xaxis.type\":\"category\",\"xaxis.categoryorder\":\"array\",\"xaxis.categoryarray\":[\"Hawaii\",\"N.Y.\",\"Calif\",\"Ore\",\"Wash\",\"Nev\",\"Mass\",\"Alaska\",\"Colo\",\"Vt\",\"Maine\",\"Fla\"]}],\"label\":\"Sort by 2017 Descending\",\"method\":\"relayout\"},{\"args\":[{\"xaxis.type\":\"category\",\"xaxis.categoryorder\":\"array\",\"xaxis.categoryarray\":[\"Fla\",\"Maine\",\"Colo\",\"Vt\",\"Alaska\",\"Wash\",\"Calif\",\"Nev\",\"Mass\",\"Ore\",\"N.Y.\",\"Hawaii\"]}],\"label\":\"Sort by 2015 Ascending\",\"method\":\"relayout\"},{\"args\":[{\"xaxis.type\":\"category\",\"xaxis.categoryorder\":\"array\",\"xaxis.categoryarray\":[\"Hawaii\",\"N.Y.\",\"Ore\",\"Mass\",\"Nev\",\"Calif\",\"Wash\",\"Alaska\",\"Vt\",\"Colo\",\"Maine\",\"Fla\"]}],\"label\":\"Sort by 2015 Descending\",\"method\":\"relayout\"},{\"args\":[{\"xaxis.type\":\"category\",\"xaxis.categoryorder\":\"array\",\"xaxis.categoryarray\":[\"Mass\",\"Vt\",\"Nev\",\"Hawaii\",\"Fla\",\"Alaska\",\"Maine\",\"N.Y.\",\"Colo\",\"Ore\",\"Wash\",\"Calif\"]}],\"label\":\"Sort by Difference Ascending\",\"method\":\"relayout\"},{\"args\":[{\"xaxis.type\":\"category\",\"xaxis.categoryorder\":\"array\",\"xaxis.categoryarray\":[\"Calif\",\"Wash\",\"Ore\",\"Colo\",\"N.Y.\",\"Maine\",\"Alaska\",\"Fla\",\"Hawaii\",\"Nev\",\"Vt\",\"Mass\"]}],\"label\":\"Sort by Difference Descending\",\"method\":\"relayout\"}],\"direction\":\"down\",\"pad\":{\"r\":10,\"t\":10},\"showactive\":true,\"x\":0.6,\"xanchor\":\"left\",\"y\":1.4,\"yanchor\":\"top\"}],\"title\":{\"text\":\"Comparison of top ten states with the highest rate of homelessness in 2015 and 2017\"}},                        {\"responsive\": true}                    ).then(function(){\n                            \nvar gd = document.getElementById('b9a10072-ad63-4cb0-9f06-0a50453a1c37');\nvar x = new MutationObserver(function (mutations, observer) {{\n        var display = window.getComputedStyle(gd).display;\n        if (!display || display === 'none') {{\n            console.log([gd, 'removed!']);\n            Plotly.purge(gd);\n            observer.disconnect();\n        }}\n}});\n\n// Listen for the removal of the full notebook cells\nvar notebookContainer = gd.closest('#notebook-container');\nif (notebookContainer) {{\n    x.observe(notebookContainer, {childList: true});\n}}\n\n// Listen for the clearing of the current output cell\nvar outputEl = gd.closest('.output');\nif (outputEl) {{\n    x.observe(outputEl, {childList: true});\n}}\n\n                        })                };                });            </script>        </div>"
     },
     "metadata": {},
     "output_type": "display_data"
    }
   ],
   "source": [
    "fig = make_subplots(rows=1, cols=2, shared_yaxes=True,\n",
    "                    column_widths=[0.9, 0.1], \n",
    "                    subplot_titles=(\"States\", \"US\"))\n",
    "\n",
    "fig.add_trace(go.Bar(x=df['state'], y=df['2015'], name='2015'), row=1, col=1)\n",
    "fig.add_trace(go.Bar(x=df['state'], y=df['2017'], name='2017'), row=1, col=1)\n",
    "fig.add_trace(go.Bar(x=df['state'], y=df['difference'], name='Difference'), row=1, col=1)\n",
    "\n",
    "fig.add_trace(go.Bar(x=[\"US\"], y=[17.3], name='2015'), row=1, col=2)\n",
    "fig.add_trace(go.Bar(x=[\"US\"], y=[17.0], name='2017'), row=1, col=2)\n",
    "fig.add_trace(go.Bar(x=[\"US\"], y=[-0.3], name='Difference'), row=1, col=2)\n",
    "\n",
    "fig.update_layout(hovermode='x unified')\n",
    "\n",
    "fig.update_xaxes(\n",
    "    rangeslider_visible=True,\n",
    "    rangeselector=dict(\n",
    "        buttons=list([\n",
    "            dict(count=1, label=\"1y\", step=\"year\", stepmode=\"backward\"),\n",
    "            dict(count=2, label=\"2y\", step=\"year\", stepmode=\"backward\"),\n",
    "            dict(count=3, label=\"3y\", step=\"year\", stepmode=\"backward\"),\n",
    "            dict(count=4, label=\"4y\", step=\"year\", stepmode=\"backward\"),\n",
    "            dict(count=5, label=\"5y\", step=\"year\", stepmode=\"backward\"),\n",
    "            dict(step=\"all\")\n",
    "        ])\n",
    "    )\n",
    ")\n",
    "\n",
    "fig.update_layout(\n",
    "    updatemenus=[\n",
    "        dict(\n",
    "            buttons=list([\n",
    "                dict(label=\"Sort by 2017 Ascending\",\n",
    "                     method=\"relayout\",\n",
    "                     args=[{\"xaxis.type\": \"category\",\n",
    "                            \"xaxis.categoryorder\": \"array\",\n",
    "                            \"xaxis.categoryarray\": df.sort_values('2017', ascending=True)['state'].tolist()}]),\n",
    "                dict(label=\"Sort by 2017 Descending\",\n",
    "                     method=\"relayout\",\n",
    "                     args=[{\"xaxis.type\": \"category\",\n",
    "                            \"xaxis.categoryorder\": \"array\",\n",
    "                            \"xaxis.categoryarray\": df.sort_values('2017', ascending=False)['state'].tolist()}]),\n",
    "                dict(label=\"Sort by 2015 Ascending\",\n",
    "                     method=\"relayout\",\n",
    "                     args=[{\"xaxis.type\": \"category\",\n",
    "                            \"xaxis.categoryorder\": \"array\",\n",
    "                            \"xaxis.categoryarray\": df.sort_values('2015', ascending=True)['state'].tolist()}]),\n",
    "                dict(label=\"Sort by 2015 Descending\",\n",
    "                     method=\"relayout\",\n",
    "                     args=[{\"xaxis.type\": \"category\",\n",
    "                            \"xaxis.categoryorder\": \"array\",\n",
    "                            \"xaxis.categoryarray\": df.sort_values('2015', ascending=False)['state'].tolist()}]),\n",
    "                dict(label=\"Sort by Difference Ascending\",\n",
    "                     method=\"relayout\",\n",
    "                     args=[{\"xaxis.type\": \"category\",\n",
    "                            \"xaxis.categoryorder\": \"array\",\n",
    "                            \"xaxis.categoryarray\": df.sort_values('difference', ascending=True)['state'].tolist()}]),\n",
    "                dict(label=\"Sort by Difference Descending\",\n",
    "                     method=\"relayout\",\n",
    "                     args=[{\"xaxis.type\": \"category\",\n",
    "                            \"xaxis.categoryorder\": \"array\",\n",
    "                            \"xaxis.categoryarray\": df.sort_values('difference', ascending=False)['state'].tolist()}]),\n",
    "            ]),\n",
    "            direction=\"down\",\n",
    "            pad={\"r\": 10, \"t\": 10},\n",
    "            showactive=True,\n",
    "            x=0.6,\n",
    "            xanchor=\"left\",\n",
    "            y=1.4,\n",
    "            yanchor=\"top\"\n",
    "        ),\n",
    "    ])\n",
    "\n",
    "fig.update_layout(title_text=\"Comparison of top ten states with the highest rate of homelessness in 2015 and 2017\", \n",
    "                  xaxis_title=\"State\", \n",
    "                  yaxis_title=\"Homelessness rate\")\n",
    "\n",
    "fig.write_html(\"./hw4.html\")\n",
    "fig.show()"
   ],
   "metadata": {
    "collapsed": false,
    "ExecuteTime": {
     "end_time": "2023-12-10T14:52:56.096262169Z",
     "start_time": "2023-12-10T14:52:56.049920046Z"
    }
   },
   "id": "66ca5d3b364857bf"
  }
 ],
 "metadata": {
  "kernelspec": {
   "display_name": "Python 3",
   "language": "python",
   "name": "python3"
  },
  "language_info": {
   "codemirror_mode": {
    "name": "ipython",
    "version": 2
   },
   "file_extension": ".py",
   "mimetype": "text/x-python",
   "name": "python",
   "nbconvert_exporter": "python",
   "pygments_lexer": "ipython2",
   "version": "2.7.6"
  }
 },
 "nbformat": 4,
 "nbformat_minor": 5
}
